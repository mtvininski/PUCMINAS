{
 "cells": [
  {
   "cell_type": "code",
   "execution_count": 109,
   "metadata": {},
   "outputs": [],
   "source": [
    "import getpass\n",
    "import pandas as pd\n",
    "import numpy as np\n",
    "from datalake_serpro import handler_dl\n",
    "import matplotlib.pyplot as plot\n",
    "import re\n",
    "from sklearn import datasets, svm\n",
    "from sklearn.model_selection import train_test_split"
   ]
  },
  {
   "cell_type": "markdown",
   "metadata": {},
   "source": [
    "<hr style=\"background:transparent; 2px;border-style:solid none;\">\n",
    "\n",
    "### Conexão com o Receita Data"
   ]
  },
  {
   "cell_type": "code",
   "execution_count": null,
   "metadata": {},
   "outputs": [],
   "source": [
    "user = getpass.getuser() + '@XXXXXXXXXXXXXXXXX'\n",
    "! {\"echo '\" + getpass.getpass('Senha para `kinit '+ user + '` : ') + \"' | /opt/anaconda3/bin/kinit \" + user}\n",
    "print(80 * '-')\n",
    "! /opt/anaconda3/bin/klist"
   ]
  },
  {
   "cell_type": "code",
   "execution_count": null,
   "metadata": {},
   "outputs": [],
   "source": [
    "conexao = handler_dl(DEBUG=True, timeout=300)\n",
    "conexao"
   ]
  },
  {
   "cell_type": "markdown",
   "metadata": {},
   "source": [
    "<hr style=\"background:transparent; 2px;border-style:solid none;\">\n",
    "\n",
    "### Consultas SQL para obter os dados iniciais"
   ]
  },
  {
   "cell_type": "code",
   "execution_count": 58,
   "metadata": {},
   "outputs": [],
   "source": [
    "sql_1='''SELECT DISTINCT t1.chave as chave_cte,\n",
    "t1.fa01_cnpjemitente as CNPJ_emit,\n",
    "t1.fa01_cnpjemitente_emp as CNPJ_emp,\n",
    "t1.fa01_ip as ip,\n",
    "t1.fb01_cfop_descricao as cfop_descricao,\n",
    "t1.fb01_nct as num_cte,\n",
    "t1.fb01_dtemi as data_emissao,\n",
    "t1.fb01_hremi as hora_emissao,\n",
    "t1.fb01_cmunenv as cod_municipio_envio,\n",
    "t1.fb01_xmunenv as mun_envio,\n",
    "t1.fb01_ufenv_codigo as cod_uf_envio,\n",
    "t1.fb01_ufenv_descricao as uf_envio,\n",
    "t1.fb01_modal_codigo as modal_cod,\n",
    "t1.fb01_modal_descricao as modal,\n",
    "t1.fb01_cmunini as cod_mun_inicio,\n",
    "t1.fb01_xmunini as mun_inicio,\n",
    "t1.fb01_ufini_codigo as cod_uf_inicio,\n",
    "t1.fb01_ufini_descricao as uf_inicio,\n",
    "t1.fb01_cmunfim as cod_municipio_fim,\n",
    "t1.fb01_xmunfim as mun_fim,\n",
    "t1.fb01_uffim_codigo as cod_uf_fim,\n",
    "t1.fb01_uffim_descricao as uf_fim,\n",
    "t1.fb01_retira as retira,\n",
    "t1.fb01_xdetretira as local_retirada,\n",
    "t1.fba01_ni as tomador_cnpj,\n",
    "t1.fba01_ni_emp as tomador_cnpj_emp,\n",
    "t1.fba01_xnome as tomador,\n",
    "t1.fc01_xemi as funcionario_emissor,\n",
    "t1.fc01_xobs as observações,\n",
    "t1.fd01_cnpj as emitente,\n",
    "t1.fd01_cnpj_emp as emitente_cnpj_emp,\n",
    "t1.fd01_xnome as emitente_nome,\n",
    "t1.fe01_ni as remetente,\n",
    "t1.fe01_ni_emp as remetente_cnpj_emp,\n",
    "t1.fe01_xnome as remetente_nome,\n",
    "t1.fg01_cmun as recebedor_mun_cod,\n",
    "t1.fg01_xmun as recebedor_municipio,\n",
    "t1.fg01_uf_codigo as recebedor_uf_cod,\n",
    "t1.fg01_uf_descricao as recebedor_uf,\n",
    "t1.ff01_ni as expeditor,\n",
    "t1.ff01_ni_emp as expeditor_cnpj_emp,\n",
    "t1.ff01_xnome as expeditor_nome,\n",
    "t1.fg01_ni as recebedor,\n",
    "t1.fg01_ni_emp as recebedor_cnpj_emp,\n",
    "t1.fg01_xnome as recebedor_nome,\n",
    "t1.fh01_ni as destinatario,\n",
    "t1.fh01_ni_emp as destinatario_cnpj_emp,\n",
    "t1.fh01_xnome as destinatario_nome,\n",
    "t1.fh01_cmun as destinatario_mun_cod,\n",
    "t1.fh01_xmun as destinatario_municipio,\n",
    "t1.fh01_uf_codigo as destinatario_uf_cod,\n",
    "t1.fh01_uf_descricao as destinatario_descricao,\n",
    "t1.fh02_ni as local_entrega,\n",
    "t1.fh02_ni_emp as local_entrega_cnpj_emp,\n",
    "t1.fh02_xnome as local_entrega_nome,\n",
    "t1.fh02_cmun as local_entrega_mun_cod,\n",
    "t1.fh02_xmun as local_entrega_municipio,\n",
    "t1.fh02_uf_codigo as local_entrega_uf_cod,\n",
    "t1.fh02_uf_descricao as local_entrega_uf,\n",
    "t1.fka334_xdime as carga_dimensao,\n",
    "t1.fka600_chcte as cte_substituicao_chave,\n",
    "t1.fKA700_xObs as obs,\n",
    "t2.fKA46_chave as nfe_chave\n",
    "FROM contagil_cte.cte_v6_a01 as t1 LEFT JOIN contagil_cte.cte_v6_ka46 as t2 ON t1.chave=t2.chave \n",
    "where t1.fb01_xmunfim='JOINVILLE' AND t1.fb01_dtemi BETWEEN '2020-09-01' and '2020-09-10'\n",
    "'''"
   ]
  },
  {
   "cell_type": "code",
   "execution_count": 59,
   "metadata": {},
   "outputs": [],
   "source": [
    "df_atr_1=pd.read_sql(sql_1, conexao)"
   ]
  },
  {
   "cell_type": "code",
   "execution_count": null,
   "metadata": {},
   "outputs": [],
   "source": [
    "df_atr_1.shape"
   ]
  },
  {
   "cell_type": "markdown",
   "metadata": {},
   "source": [
    "<h><b> SQL para consulta auxiliar: Valor Frete </b><h>"
   ]
  },
  {
   "cell_type": "code",
   "execution_count": 61,
   "metadata": {},
   "outputs": [],
   "source": [
    "sql_2='''SELECT DISTINCT t1.chave as chave_cte,t1.fi01_vtprest as valor_prestacao\n",
    "FROM contagil_cte.cte_v6_a01 as t1 \n",
    "where t1.fi01_vtprest >0.0 and t1.fb01_xmunfim='JOINVILLE' AND t1.fb01_dtemi BETWEEN '2020-09-01' and '2020-09-10'\n",
    "'''"
   ]
  },
  {
   "cell_type": "code",
   "execution_count": 62,
   "metadata": {},
   "outputs": [],
   "source": [
    "df_atr_2=pd.read_sql(sql_2, conexao)"
   ]
  },
  {
   "cell_type": "code",
   "execution_count": null,
   "metadata": {},
   "outputs": [],
   "source": [
    "df_atr_2.shape"
   ]
  },
  {
   "cell_type": "markdown",
   "metadata": {},
   "source": [
    "<h><b> SQL para consulta auxiliar: Produto prepoderante </b> <h>"
   ]
  },
  {
   "cell_type": "code",
   "execution_count": 64,
   "metadata": {},
   "outputs": [],
   "source": [
    "sql_3='''SELECT DISTINCT t1.chave as chave_cte, t1.fka01_propred as produto_predominante\n",
    "FROM contagil_cte.cte_v6_a01 as t1 \n",
    "where t1.fka01_propred <> 'NULL' AND t1.fb01_xmunfim='JOINVILLE' AND t1.fb01_dtemi BETWEEN '2020-09-01' and '2020-09-10'\n",
    "'''"
   ]
  },
  {
   "cell_type": "code",
   "execution_count": 65,
   "metadata": {},
   "outputs": [],
   "source": [
    "df_atr_3=pd.read_sql(sql_3, conexao)"
   ]
  },
  {
   "cell_type": "code",
   "execution_count": null,
   "metadata": {},
   "outputs": [],
   "source": [
    "df_atr_3.shape"
   ]
  },
  {
   "cell_type": "markdown",
   "metadata": {},
   "source": [
    "<h><b> SQL para consulta auxiliar: Valor Carga</b> <h>"
   ]
  },
  {
   "cell_type": "code",
   "execution_count": 67,
   "metadata": {},
   "outputs": [],
   "source": [
    "sql_4='''SELECT DISTINCT t1.chave as chave_cte, t1.fka01_vcarga as valor_carga\n",
    "FROM contagil_cte.cte_v6_a01 as t1 \n",
    "where t1.fka01_vcarga > 0.0 AND t1.fb01_xmunfim='JOINVILLE' AND t1.fb01_dtemi BETWEEN '2020-09-01' and '2020-09-10'\n",
    "'''"
   ]
  },
  {
   "cell_type": "code",
   "execution_count": 68,
   "metadata": {},
   "outputs": [],
   "source": [
    "df_atr_4=pd.read_sql(sql_4, conexao)"
   ]
  },
  {
   "cell_type": "code",
   "execution_count": null,
   "metadata": {},
   "outputs": [],
   "source": [
    "df_atr_4.shape"
   ]
  },
  {
   "cell_type": "markdown",
   "metadata": {},
   "source": [
    "<h><b> Definição das chaves <b><h>"
   ]
  },
  {
   "cell_type": "code",
   "execution_count": 70,
   "metadata": {},
   "outputs": [],
   "source": [
    "df_atr_1.set_index('chave_cte', inplace=True)"
   ]
  },
  {
   "cell_type": "code",
   "execution_count": 71,
   "metadata": {},
   "outputs": [],
   "source": [
    "df_atr_2.set_index('chave_cte', inplace=True)"
   ]
  },
  {
   "cell_type": "code",
   "execution_count": 72,
   "metadata": {},
   "outputs": [],
   "source": [
    "df_atr_3.set_index('chave_cte', inplace=True)"
   ]
  },
  {
   "cell_type": "code",
   "execution_count": 73,
   "metadata": {},
   "outputs": [],
   "source": [
    "df_atr_4.set_index('chave_cte', inplace=True)"
   ]
  },
  {
   "cell_type": "markdown",
   "metadata": {},
   "source": [
    "<h><b> Junções das tabelas </b><h>"
   ]
  },
  {
   "cell_type": "code",
   "execution_count": 74,
   "metadata": {},
   "outputs": [],
   "source": [
    "df_r1=df_atr_1.merge(df_atr_2,how='left', left_index=True,right_index=True)"
   ]
  },
  {
   "cell_type": "code",
   "execution_count": null,
   "metadata": {},
   "outputs": [],
   "source": [
    "df_r1.shape"
   ]
  },
  {
   "cell_type": "code",
   "execution_count": 76,
   "metadata": {},
   "outputs": [],
   "source": [
    "df_r2=df_r1.merge(df_atr_3,how='left', left_index=True,right_index=True)\n"
   ]
  },
  {
   "cell_type": "code",
   "execution_count": null,
   "metadata": {},
   "outputs": [],
   "source": [
    "df_r2.shape"
   ]
  },
  {
   "cell_type": "code",
   "execution_count": 78,
   "metadata": {},
   "outputs": [],
   "source": [
    "df_r3=df_r2.merge(df_atr_4,how='left', left_index=True,right_index=True)"
   ]
  },
  {
   "cell_type": "code",
   "execution_count": null,
   "metadata": {},
   "outputs": [],
   "source": [
    "df_r3.shape"
   ]
  },
  {
   "cell_type": "markdown",
   "metadata": {},
   "source": [
    "<h><b>Verificação dos tipos</b></h>"
   ]
  },
  {
   "cell_type": "code",
   "execution_count": 80,
   "metadata": {},
   "outputs": [],
   "source": [
    "tipos=df_r3.dtypes"
   ]
  },
  {
   "cell_type": "code",
   "execution_count": 81,
   "metadata": {},
   "outputs": [],
   "source": [
    "tipos.to_csv('tipos.csv')"
   ]
  },
  {
   "cell_type": "code",
   "execution_count": null,
   "metadata": {},
   "outputs": [],
   "source": [
    "lista_categoricos = df_r3.describe(exclude='number',datetime_is_numeric=True).T.query('unique < 6').index.to_list()\n",
    "lista_categoricos"
   ]
  },
  {
   "cell_type": "code",
   "execution_count": 83,
   "metadata": {},
   "outputs": [],
   "source": [
    "df_r3['modal']=df_r3['modal'].astype('category')"
   ]
  },
  {
   "cell_type": "code",
   "execution_count": null,
   "metadata": {},
   "outputs": [],
   "source": [
    "df_r3['modal'].value_counts().to_frame()"
   ]
  },
  {
   "cell_type": "code",
   "execution_count": 87,
   "metadata": {},
   "outputs": [],
   "source": [
    "def exemplo_linha(frame, iloc=0):\n",
    "    df_info = pd.DataFrame(dict(valor_exemplo=frame.iloc[iloc].copy()))\n",
    "    df_info['dtype_coluna'] = frame.dtypes.map(lambda x: x.name)\n",
    "    df_info['classe_valor'] = df_info['valor_exemplo'].map(lambda x: x.__class__.__name__)\n",
    "    df_info.index.name = 'nome_coluna'\n",
    "    return df_info"
   ]
  },
  {
   "cell_type": "code",
   "execution_count": 88,
   "metadata": {},
   "outputs": [],
   "source": [
    "df_info = exemplo_linha(df_r3)\n",
    "df_info.to_csv('tipos3.csv')"
   ]
  },
  {
   "cell_type": "code",
   "execution_count": 89,
   "metadata": {},
   "outputs": [],
   "source": [
    "df_r3.drop(columns=['cnpj_emp'], inplace=True)"
   ]
  },
  {
   "cell_type": "code",
   "execution_count": 90,
   "metadata": {},
   "outputs": [],
   "source": [
    "df_r3.drop(['cnpj_emit','ip','local_retirada','tomador_cnpj','tomador_cnpj_emp','tomador','funcionario_emissor','local_entrega','local_entrega_cnpj_emp','local_entrega_nome','local_entrega_mun_cod','local_entrega_municipio','local_entrega_uf_cod','local_entrega_uf','carga_dimensao','obs'], axis=1,inplace=True)"
   ]
  },
  {
   "cell_type": "code",
   "execution_count": null,
   "metadata": {},
   "outputs": [],
   "source": [
    "df_r3.shape"
   ]
  },
  {
   "cell_type": "code",
   "execution_count": 92,
   "metadata": {},
   "outputs": [],
   "source": [
    "df_info2 = exemplo_linha(df_r3)\n",
    "df_info2.to_csv('tipos4.csv')"
   ]
  },
  {
   "cell_type": "code",
   "execution_count": 93,
   "metadata": {},
   "outputs": [],
   "source": [
    "df_r3['remetente_cnpj_emp'].fillna(0, inplace=True)"
   ]
  },
  {
   "cell_type": "code",
   "execution_count": 94,
   "metadata": {},
   "outputs": [],
   "source": [
    "df_r3['expeditor_cnpj_emp'].fillna(0, inplace=True)"
   ]
  },
  {
   "cell_type": "code",
   "execution_count": 95,
   "metadata": {},
   "outputs": [],
   "source": [
    "df_r3['recebedor_cnpj_emp'].fillna(0, inplace=True)"
   ]
  },
  {
   "cell_type": "code",
   "execution_count": 96,
   "metadata": {},
   "outputs": [],
   "source": [
    "df_r3['destinatario_cnpj_emp'].fillna(0, inplace=True)"
   ]
  },
  {
   "cell_type": "code",
   "execution_count": 97,
   "metadata": {},
   "outputs": [],
   "source": [
    "df_r3['emitente_cnpj_emp']=df_r3.astype({'emitente_cnpj_emp':'int64'}).dtypes"
   ]
  },
  {
   "cell_type": "code",
   "execution_count": 98,
   "metadata": {},
   "outputs": [],
   "source": [
    "df_r3['expeditor_cnpj_emp']=df_r3.astype({'expeditor_cnpj_emp':'int64'}).dtypes"
   ]
  },
  {
   "cell_type": "code",
   "execution_count": 99,
   "metadata": {},
   "outputs": [],
   "source": [
    "df_r3['recebedor_cnpj_emp']=df_r3.astype({'recebedor_cnpj_emp':'int64'}).dtypes"
   ]
  },
  {
   "cell_type": "code",
   "execution_count": 100,
   "metadata": {},
   "outputs": [],
   "source": [
    "df_r3['destinatario_cnpj_emp']=df_r3.astype({'destinatario_cnpj_emp':'int64'}).dtypes"
   ]
  },
  {
   "cell_type": "code",
   "execution_count": 101,
   "metadata": {},
   "outputs": [],
   "source": [
    "df_r3['remetente_cnpj_emp']=df_r3.astype({'remetente_cnpj_emp':'int64'}).dtypes"
   ]
  },
  {
   "cell_type": "code",
   "execution_count": null,
   "metadata": {},
   "outputs": [],
   "source": [
    "df_r3.dropna(axis=0, how='all')"
   ]
  },
  {
   "cell_type": "code",
   "execution_count": 103,
   "metadata": {},
   "outputs": [],
   "source": [
    "df_r3.to_csv('base_inf.csv')"
   ]
  },
  {
   "cell_type": "code",
   "execution_count": 47,
   "metadata": {},
   "outputs": [
    {
     "data": {
      "text/plain": [
       "cod_uf_inicio\n",
       "AL       66\n",
       "AM       72\n",
       "BA      146\n",
       "CE       72\n",
       "DF       55\n",
       "ES      968\n",
       "GO      157\n",
       "MA       12\n",
       "MG     2248\n",
       "MS       68\n",
       "MT       45\n",
       "PA       18\n",
       "PB       41\n",
       "PE      181\n",
       "PI       11\n",
       "PR     6718\n",
       "RJ      920\n",
       "RN       13\n",
       "RO        9\n",
       "RR        3\n",
       "RS     2550\n",
       "SC    10893\n",
       "SE       12\n",
       "SP    17203\n",
       "TO       30\n",
       "Name: num_cte, dtype: int64"
      ]
     },
     "execution_count": 47,
     "metadata": {},
     "output_type": "execute_result"
    }
   ],
   "source": [
    "estado=df_r3.groupby(by=['cod_uf_inicio'])\n",
    "estado_contagem=estado['num_cte'].count()\n",
    "estado_contagem"
   ]
  },
  {
   "cell_type": "code",
   "execution_count": 48,
   "metadata": {},
   "outputs": [
    {
     "data": {
      "text/plain": [
       "<AxesSubplot:>"
      ]
     },
     "execution_count": 48,
     "metadata": {},
     "output_type": "execute_result"
    },
    {
     "data": {
      "image/png": "[encoded data removed]",
      "text/plain": [
       "<Figure size 432x288 with 1 Axes>"
      ]
     },
     "metadata": {
      "needs_background": "light"
     },
     "output_type": "display_data"
    }
   ],
   "source": [
    "df_r3['cod_uf_inicio'].value_counts().plot.bar()"
   ]
  },
  {
   "cell_type": "code",
   "execution_count": 49,
   "metadata": {},
   "outputs": [
    {
     "data": {
      "text/plain": [
       "retira\n",
       "False     6051\n",
       "True     36460\n",
       "Name: num_cte, dtype: int64"
      ]
     },
     "execution_count": 49,
     "metadata": {},
     "output_type": "execute_result"
    }
   ],
   "source": [
    "retira=df_r3.groupby(by=['retira'])\n",
    "retira_contagem=retira['num_cte'].count()\n",
    "retira_contagem"
   ]
  },
  {
   "cell_type": "code",
   "execution_count": 44,
   "metadata": {},
   "outputs": [
    {
     "data": {
      "text/plain": [
       "<AxesSubplot:>"
      ]
     },
     "execution_count": 44,
     "metadata": {},
     "output_type": "execute_result"
    },
    {
     "data": {
      "image/png": "[encoded data removed]",
      "text/plain": [
       "<Figure size 432x288 with 1 Axes>"
      ]
     },
     "metadata": {
      "needs_background": "light"
     },
     "output_type": "display_data"
    }
   ],
   "source": [
    "df_r3['retira'].value_counts().plot.bar()"
   ]
  },
  {
   "cell_type": "code",
   "execution_count": 77,
   "metadata": {},
   "outputs": [
    {
     "data": {
      "text/plain": [
       "data_emissao\n",
       "2020-09-01    20751\n",
       "2020-09-02    22738\n",
       "2020-09-03    20316\n",
       "2020-09-04    19648\n",
       "2020-09-05     5399\n",
       "2020-09-06      968\n",
       "2020-09-07     3045\n",
       "2020-09-08    20049\n",
       "2020-09-09    20862\n",
       "2020-09-10    21667\n",
       "Name: num_cte, dtype: int64"
      ]
     },
     "execution_count": 77,
     "metadata": {},
     "output_type": "execute_result"
    }
   ],
   "source": [
    "data2=df_r3.groupby(by=['data_emissao'])\n",
    "data_contagem=data2['num_cte'].count()\n",
    "data_contagem\n"
   ]
  },
  {
   "cell_type": "code",
   "execution_count": 76,
   "metadata": {},
   "outputs": [
    {
     "data": {
      "text/plain": [
       "<AxesSubplot:>"
      ]
     },
     "execution_count": 76,
     "metadata": {},
     "output_type": "execute_result"
    },
    {
     "data": {
      "image/png": "[encoded data removed]",
      "text/plain": [
       "<Figure size 432x288 with 1 Axes>"
      ]
     },
     "metadata": {
      "needs_background": "light"
     },
     "output_type": "display_data"
    }
   ],
   "source": [
    "df_r3['data_emissao'].value_counts().plot.bar()"
   ]
  },
  {
   "cell_type": "code",
   "execution_count": 78,
   "metadata": {},
   "outputs": [
    {
     "data": {
      "text/plain": [
       "4864391300.500001"
      ]
     },
     "execution_count": 78,
     "metadata": {},
     "output_type": "execute_result"
    }
   ],
   "source": [
    "df_r3['valor_carga'].sum()"
   ]
  },
  {
   "cell_type": "code",
   "execution_count": 79,
   "metadata": {},
   "outputs": [
    {
     "data": {
      "text/plain": [
       "31651.904560659124"
      ]
     },
     "execution_count": 79,
     "metadata": {},
     "output_type": "execute_result"
    }
   ],
   "source": [
    "df_r3['valor_carga'].mean()"
   ]
  },
  {
   "cell_type": "code",
   "execution_count": 80,
   "metadata": {},
   "outputs": [
    {
     "data": {
      "text/plain": [
       "81151107.92"
      ]
     },
     "execution_count": 80,
     "metadata": {},
     "output_type": "execute_result"
    }
   ],
   "source": [
    "df_r3['valor_prestacao'].sum()"
   ]
  },
  {
   "cell_type": "code",
   "execution_count": 92,
   "metadata": {},
   "outputs": [
    {
     "data": {
      "text/plain": [
       "522.5475239375547"
      ]
     },
     "execution_count": 92,
     "metadata": {},
     "output_type": "execute_result"
    }
   ],
   "source": [
    "df_r3['valor_prestacao'].mean()"
   ]
  },
  {
   "cell_type": "code",
   "execution_count": 101,
   "metadata": {},
   "outputs": [
    {
     "data": {
      "text/plain": [
       "<AxesSubplot:>"
      ]
     },
     "execution_count": 101,
     "metadata": {},
     "output_type": "execute_result"
    },
    {
     "data": {
      "image/png": "[encoded data removed]",
      "text/plain": [
       "<Figure size 432x288 with 1 Axes>"
      ]
     },
     "metadata": {
      "needs_background": "light"
     },
     "output_type": "display_data"
    }
   ],
   "source": [
    "df_r3['cfop_descricao'].value_counts().plot.bar()"
   ]
  }
 ],
 "metadata": {
  "kernelspec": {
   "display_name": "Python 3",
   "language": "python",
   "name": "python3"
  },
  "language_info": {
   "codemirror_mode": {
    "name": "ipython",
    "version": 3
   },
   "file_extension": ".py",
   "mimetype": "text/x-python",
   "name": "python",
   "nbconvert_exporter": "python",
   "pygments_lexer": "ipython3",
   "version": "3.6.8"
  }
 },
 "nbformat": 4,
 "nbformat_minor": 2
}
